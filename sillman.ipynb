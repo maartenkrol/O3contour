{
 "cells": [
  {
   "cell_type": "code",
   "execution_count": 1,
   "metadata": {
    "collapsed": false,
    "slideshow": {
     "slide_type": "slide"
    }
   },
   "outputs": [
    {
     "name": "stdout",
     "output_type": "stream",
     "text": [
      "Populating the interactive namespace from numpy and matplotlib\n"
     ]
    },
    {
     "data": {
      "image/png": "[encoded data removed]",
      "text/plain": [
       "<matplotlib.figure.Figure at 0x10d086ef0>"
      ]
     },
     "metadata": {},
     "output_type": "display_data"
    }
   ],
   "source": [
    "%pylab inline\n",
    "from pylab import *\n",
    "import numpy as np\n",
    "eno = [0,0.2,0.4,0.6,0.8,1.0,1.2,1.4,1.6,1.8,2.0]\n",
    "erh = [0.5,1.0]\n",
    "ENO, ERH = np.meshgrid(eno,erh)\n",
    "\n",
    "o3 = [[50,73.,79.,80.,75.,66.,57.,51.,45.,41.,37.],\n",
    "       [57.,93.,104.,109.,110.,111.,108.,103.,95.,87.,79.]]\n",
    "\n",
    "#eno = [0,0.1,0.2,0.3,0.4,0.5,1]\n",
    "#erh = [0.5,1,2,3,4]\n",
    "#ENO, ERH = np.meshgrid(eno,erh)\n",
    "\n",
    "#o3 = [[48,50,52,54,58],\n",
    "#       [63,77,100,113,119],\n",
    "#       [69,85,100,140,155],\n",
    "##       [73,86,91,154,176],\n",
    "#    [75,96,95,163,190],\n",
    "#     [76,99,98,170,199],\n",
    "#      [65,103,151,191,226]]\n",
    "\n",
    "\n",
    "f,ax = subplots()\n",
    "o3 = array(o3)\n",
    "ax2 = ax.contourf(ENO,ERH,o3)\n",
    "cbar = colorbar(ax2)\n",
    "ax.set_xlabel('Eno (ppb m/s)')\n",
    "ax.set_ylabel('Erh (ppb m/s)')\n",
    "cbar.set_label('O3 (ppb)')"
   ]
  },
  {
   "cell_type": "markdown",
   "metadata": {
    "slideshow": {
     "slide_type": "subslide"
    }
   },
   "source": [
    "some sub slide"
   ]
  },
  {
   "cell_type": "code",
   "execution_count": 1,
   "metadata": {
    "collapsed": false,
    "slideshow": {
     "slide_type": "subslide"
    }
   },
   "outputs": [
    {
     "name": "stdout",
     "output_type": "stream",
     "text": [
      "Populating the interactive namespace from numpy and matplotlib\n"
     ]
    },
    {
     "data": {
      "text/plain": [
       "[<matplotlib.lines.Line2D at 0x10b776588>]"
      ]
     },
     "execution_count": 1,
     "metadata": {},
     "output_type": "execute_result"
    },
    {
     "data": {
      "image/png": "[encoded data removed]",
      "text/plain": [
       "<matplotlib.figure.Figure at 0x109050f98>"
      ]
     },
     "metadata": {},
     "output_type": "display_data"
    }
   ],
   "source": [
    "%pylab inline\n",
    "plot([1,2,3])"
   ]
  },
  {
   "cell_type": "code",
   "execution_count": null,
   "metadata": {
    "collapsed": true
   },
   "outputs": [],
   "source": []
  }
 ],
 "metadata": {
  "celltoolbar": "Slideshow",
  "kernelspec": {
   "display_name": "Python 3",
   "language": "python",
   "name": "python3"
  },
  "language_info": {
   "codemirror_mode": {
    "name": "ipython",
    "version": 3
   },
   "file_extension": ".py",
   "mimetype": "text/x-python",
   "name": "python",
   "nbconvert_exporter": "python",
   "pygments_lexer": "ipython3",
   "version": "3.5.0"
  }
 },
 "nbformat": 4,
 "nbformat_minor": 0
}
