{
 "cells": [
  {
   "cell_type": "markdown",
   "metadata": {},
   "source": [
    "# The budget of ammonia over the Netherlands\n",
    "--------\n",
    "\n",
    "<figure>\n",
    "<img = src=\"nh3budget.png\">\n",
    "</figure>\n",
    "\n",
    "We consider the  NH$_3$ budget and set up a mass balance equation, and assume steady state (prodcution = loss):\n",
    "\n",
    "\\begin{equation}\n",
    "   \\frac{\\delta M_{NH_3}}{\\delta t} = E + F_{in} - F_{out} - F_{dry} - F_{wet} - F_{chem} = 0\n",
    "\\end{equation}\n",
    "\n",
    "\\begin{equation}\n",
    "   E + F_{in} = F_{out} + F_{dry} + F_{wet} + F_{chem} \n",
    "\\end{equation}\n",
    "\n",
    "Consider a box over the Netherlands with dimensions W = 200 km, L = 200 km, and a height h = 800 m.\n",
    "The Netherlands emit 134$\\times$10$^{6}$ kg NH$_3$ per year, mainly through agricultural practices.\n",
    "The concentration of NH$_3$ outside the Netherlands is about 1 $\\mu$g m$^{-3}$. The yearly averaged wind \n",
    "speed is about 5 m s$^{-1}$.\n",
    "\n",
    "\n",
    "- calculate the refreshment rate of air (vv): the volume of air that enters and leaves the Netherlands.\n",
    "- calculate the amount of NH$_{3}$ that enters the Netherlands through advection. \n",
    "- compare this number to the yearly emission over teh Netherlands. \n",
    "\n"
   ]
  },
  {
   "cell_type": "code",
   "execution_count": 7,
   "metadata": {},
   "outputs": [
    {
     "name": "stdout",
     "output_type": "stream",
     "text": [
      "Refreshment volume :    2.5229e+16 m3/year\n",
      "emission           :    1.3400e+08 kg/year\n",
      "flux in            :    2.5229e+07 kg/year\n"
     ]
    }
   ],
   "source": [
    "emis = 134e6  # kg/jaar\n",
    "u = 5.0  # m/s\n",
    "w = 200e3 # m\n",
    "h = 800.0 # m\n",
    "l = 200e3 # m\n",
    "cout = 1e-9 # kg/m3\n",
    "vpj = h*l*u*3600.*24.0*365   # m3/jaar\n",
    "print('Refreshment volume :  %12.4e m3/year'%vpj)\n",
    "fin = vpj*cout # kg/jaar\n",
    "print('emission           :  %12.4e kg/year'%emis)\n",
    "print('flux in            :  %12.4e kg/year'%fin)"
   ]
  },
  {
   "cell_type": "markdown",
   "metadata": {},
   "source": [
    "Now we consider the loss processes.\n",
    "NH$_3$ is removed through several physical and chemical pathways.\n",
    "Dry deposition is efficient, since soils and vegetation readily take up NH$_3$ \n",
    "We take the deposition velocity of  NH$_3$ as 1 cm s$^{-1}$. \n",
    "\n",
    "Wet deposition is the removal of NH$_3$ by precipitation. The efficiency of this process depends on\n",
    "the amount of precipitation (rr = 760 mm per year), and the removal efficiency \n",
    "(a dimensionless parameter w$_r$ = 2 $\\times$ 10$^{5}$).\n",
    "\n",
    "NH$_3$ is also removed chemically. This process removes 5.6% per hour.\n",
    "\n",
    "The removal fluxes (unit  kg NH$_3$ year$^{-1}$) all scale with C$_a$, the concentration of NH$_3$ in the atmosphere over the Netherlands (unit kg NH$_3$ m$^{-3}$):\n",
    "\n",
    "\\begin{equation}\n",
    "F_{out} = C_a \\times vv  \n",
    "\\end{equation}\n",
    "\n",
    "\\begin{equation}\n",
    "F_{dry} = C_a \\times v_d \\times L \\times W\n",
    "\\end{equation}\n",
    "\n",
    "\\begin{equation}\n",
    "F_{wet} = C_a \\times rr \\times w_r \\times L \\times W\n",
    "\\end{equation}\n",
    "\n",
    "\\begin{equation}\n",
    "F_{chem} = C_a \\times r_c \\times L \\times W \\times h\n",
    "\\end{equation}\n",
    "\n",
    "* Calculate the removal volumes of all loss processes in m$^3$ year$^{-1}$\n",
    "\n",
    "\n",
    "\n"
   ]
  },
  {
   "cell_type": "code",
   "execution_count": 9,
   "metadata": {},
   "outputs": [
    {
     "name": "stdout",
     "output_type": "stream",
     "text": [
      "dry deposition:   1.2614e+16 m3/year\n",
      "wet deposition:   6.0800e+15 m3/year\n",
      "chemistry     :   1.5698e+16 m3/year\n",
      "transport     :   2.5229e+16 m3/year\n"
     ]
    }
   ],
   "source": [
    "vd = 0.01   # m/s\n",
    "wr = 2e5 # -\n",
    "rr = 0.76   # m/jaar\n",
    "rc = 0.056  # 1/hour\n",
    "\n",
    "vd *= 3600.*24*365.   # m/jaar\n",
    "rc *= 24.*365         # 1/jaar\n",
    "area = w*l\n",
    "\n",
    "vdd = vd*area   # m3/jaar\n",
    "vwd = wr*rr*area  # m3/jaar \n",
    "vch = rc*area*h   # m3/jaar\n",
    "print('dry deposition: %12.4e m3/year'%vdd)\n",
    "print('wet deposition: %12.4e m3/year'%vwd)\n",
    "print('chemistry     : %12.4e m3/year'%vch)\n",
    "print('transport     : %12.4e m3/year'%vpj)\n"
   ]
  },
  {
   "cell_type": "markdown",
   "metadata": {},
   "source": [
    "* Calculate the steady state NH$_3$ concentration over the Netherlands"
   ]
  },
  {
   "cell_type": "code",
   "execution_count": 10,
   "metadata": {},
   "outputs": [
    {
     "name": "stdout",
     "output_type": "stream",
     "text": [
      "2.670677773245454  ug/m3\n"
     ]
    }
   ],
   "source": [
    "ca = (emis+vpj*cout)/(vdd+vwd+vch+vpj)\n",
    "print(ca*1e9,' ug/m3')"
   ]
  },
  {
   "cell_type": "code",
   "execution_count": null,
   "metadata": {
    "collapsed": true
   },
   "outputs": [],
   "source": []
  }
 ],
 "metadata": {
  "kernelspec": {
   "display_name": "Python 3",
   "language": "python",
   "name": "python3"
  },
  "language_info": {
   "codemirror_mode": {
    "name": "ipython",
    "version": 3
   },
   "file_extension": ".py",
   "mimetype": "text/x-python",
   "name": "python",
   "nbconvert_exporter": "python",
   "pygments_lexer": "ipython3",
   "version": "3.6.3"
  }
 },
 "nbformat": 4,
 "nbformat_minor": 1
}
