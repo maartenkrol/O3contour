{
 "cells": [
  {
   "cell_type": "markdown",
   "metadata": {},
   "source": [
    "# Het ammoniak-budget van Nederland\n",
    "--------\n",
    "\n",
    "<figure>\n",
    "<img = src=\"nh3budget.png\">\n",
    "</figure>\n",
    "\n",
    "We kijken naar het NH$_3$ budget via de mass-balans vergelijking, die we in steady state veronderstellen (productie = verlies):\n",
    "\n",
    "\\begin{equation}\n",
    "   \\frac{\\delta M_{NH_3}}{\\delta t} = E + F_{in} - F_{out} - F_{dry} - F_{wet} - F_{chem} = 0\n",
    "\\end{equation}\n",
    "\n",
    "\\begin{equation}\n",
    "   E + F_{in} = F_{out} + F_{dry} + F_{wet} + F_{chem} \n",
    "\\end{equation}\n",
    "\n",
    "\n",
    "\n",
    "Beschouw een box over Nederland van 200 km $\\times$ 200 km met een hoogte van 800m. \n",
    "In Nederland wordt naar schatting 134$\\times$10$^{6}$ kg NH$_3$ per jaar uitgestoten, voornamelijk door landbouw. De NH$_3$ concentratie buiten de Nederlandse grenzen is ongeveer 1 $\\mu$g m$^{-3}$. De windsnelheid is jaargemiddeld ongeveer 5 m s$^{-1}$.\n",
    "\n",
    "- bereken het verversingsvolume (vv): het volume van de lucht die per jaar Nederland in en uit stroomt \n",
    "- bereken de hoeveelheid NH$_{3}$ die met deze lucht Nederland in stroomt \n",
    "- Vegelijk dit getal met de Nederlandse emissie\n",
    "\n"
   ]
  },
  {
   "cell_type": "code",
   "execution_count": null,
   "metadata": {
    "collapsed": false
   },
   "outputs": [],
   "source": [
    "emis = 134e6  # kg/jaar\n",
    "u = 5.0  # m/s\n",
    "w = 200e3 # m\n",
    "h = 800.0 # m\n",
    "l = 200e3 # m\n",
    "cout = 1e-9 # kg/m3\n",
    "vpj = h*l*u*3600.*24.0*365   # m3/jaar\n",
    "print('Verversings volume:  %12.4e kg/jaar'%vpj)\n",
    "fin = vpj*cout # kg/jaar\n",
    "print('emissie           :  %12.4e kg/jaar'%emis)\n",
    "print('flux in           :  %12.4e kg/jaar'%fin)"
   ]
  },
  {
   "cell_type": "markdown",
   "metadata": {},
   "source": [
    "Nu kijken we naar de verwijderingsprocessen. \n",
    "NH$_3$ wordt verwijderd door verschillende fysische en chemische processen. Droge depositie vindt plaats ondat planten en de bodem makkelijk NH$_3$ uit de lucht opnemen. De depositie-snelheid van NH$_3$ wordt gesteld op 1 cm s$^{-1}$. \n",
    "\n",
    "Natte verwijdering is de verwijdering van NH$_3$ door neerslag. Dit hangt af van de hoeveelheid neerslag die van (rr = 760 mm per jaar), de verwijderings-efficientie (een dimensieloze parameter w$_r$ = 2 $\\times$ 10$^{5}$).\n",
    "\n",
    "Ook wordt NH$_3$ chemisch verwijderd. Hiermee wordt 5.6% per uur verwijderd.\n",
    "\n",
    "De verwijderingfluxen (eenheid kg NH$_3$ jaar$^{-1}$) schalen alle met C$_a$, de atmosferische NH$_3$ concentratie (in kg NH$_3$ m$^{-3}$):\n",
    "\n",
    "\\begin{equation}\n",
    "F_{out} = C_a \\times vv  \n",
    "\\end{equation}\n",
    "\n",
    "\\begin{equation}\n",
    "F_{dry} = C_a \\times v_d \\times L \\times W\n",
    "\\end{equation}\n",
    "\n",
    "\\begin{equation}\n",
    "F_{wet} = C_a \\times rr \\times w_r \\times L \\times W\n",
    "\\end{equation}\n",
    "\n",
    "\\begin{equation}\n",
    "F_{chem} = C_a \\times r_c \\times L \\times W \\times h\n",
    "\\end{equation}\n",
    "\n",
    "* Vergelijk de verwijderings-volumes in de eenheid m$^3$ jaar$^{-1}$\n",
    "\n",
    "\n",
    "\n"
   ]
  },
  {
   "cell_type": "code",
   "execution_count": null,
   "metadata": {
    "collapsed": false
   },
   "outputs": [],
   "source": [
    "vd = 0.01   # m/s\n",
    "wr = 2e5 # -\n",
    "rr = 0.76   # m/jaar\n",
    "rc = 0.056  # 1/hour\n",
    "\n",
    "vd *= 3600.*24*365.   # m/jaar\n",
    "rc *= 24.*365         # 1/jaar\n",
    "area = w*l\n",
    "\n",
    "vdd = vd*area   # m3/jaar\n",
    "vwd = wr*rr*area  # m3/jaar \n",
    "vch = rc*area*h   # m3/jaar\n",
    "print('droge depositie: %12.4e m3/jaar'%vdd)\n",
    "print('natte depositie: %12.4e m3/jaar'%vwd)\n",
    "print('chemie         : %12.4e m3/jaar'%vch)\n",
    "print('transport      : %12.4e m3/jaar'%vpj)\n"
   ]
  },
  {
   "cell_type": "markdown",
   "metadata": {},
   "source": [
    "* Bereken de steady state atmosferisch concentratie van NH$_3$ boven Nederland"
   ]
  },
  {
   "cell_type": "code",
   "execution_count": null,
   "metadata": {
    "collapsed": false
   },
   "outputs": [],
   "source": [
    "ca = (emis+vpj*cout)/(vdd+vwd+vch+vpj)\n",
    "print(ca*1e9,' ug/m3')"
   ]
  },
  {
   "cell_type": "code",
   "execution_count": null,
   "metadata": {
    "collapsed": true
   },
   "outputs": [],
   "source": []
  }
 ],
 "metadata": {
  "kernelspec": {
   "display_name": "Python 3",
   "language": "python",
   "name": "python3"
  },
  "language_info": {
   "codemirror_mode": {
    "name": "ipython",
    "version": 3
   },
   "file_extension": ".py",
   "mimetype": "text/x-python",
   "name": "python",
   "nbconvert_exporter": "python",
   "pygments_lexer": "ipython3",
   "version": "3.5.2"
  }
 },
 "nbformat": 4,
 "nbformat_minor": 0
}
